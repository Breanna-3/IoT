{
 "cells": [
  {
   "cell_type": "markdown",
   "id": "9c22cada",
   "metadata": {},
   "source": [
    "Import required standard libraries"
   ]
  },
  {
   "cell_type": "markdown",
   "id": "15ddc37a",
   "metadata": {},
   "source": [
    "# This function compresses text using Run-Length Encoding (RLE).\n",
    "# It replaces sequences of the same character with the character followed by its count."
   ]
  },
  {
   "cell_type": "code",
   "execution_count": 6,
   "id": "ec1ad495",
   "metadata": {},
   "outputs": [],
   "source": [
    "\n",
    "def compress_rle(text):\n",
    "    if not text:\n",
    "        return \"\"\n",
    "    \n",
    "    compressed = []\n",
    "    count = 1\n",
    "    prev = text[0]\n",
    "\n",
    "    for char in text[1:]:\n",
    "        if char == prev:\n",
    "            count += 1\n",
    "        else:\n",
    "            compressed.append(f\"{prev}{count}\")\n",
    "            prev = char\n",
    "            count = 1\n",
    "    compressed.append(f\"{prev}{count}\")  # Add the last run\n",
    "    \n",
    "    return ''.join(compressed)\n"
   ]
  },
  {
   "cell_type": "markdown",
   "id": "40f08a2c",
   "metadata": {},
   "source": [
    "# This function restores compressed text back to its original form.\n",
    "# It reads character-count pairs and reconstructs the string."
   ]
  },
  {
   "cell_type": "code",
   "execution_count": 7,
   "id": "643a87a7",
   "metadata": {},
   "outputs": [],
   "source": [
    "def decompress_rle(compressed):\n",
    "    if not compressed:\n",
    "        return \"\"\n",
    "\n",
    "    decompressed = []\n",
    "    i = 0\n",
    "    while i < len(compressed):\n",
    "        char = compressed[i]\n",
    "        i += 1\n",
    "        count = \"\"\n",
    "        while i < len(compressed) and compressed[i].isdigit():\n",
    "            count += compressed[i]\n",
    "            i += 1\n",
    "        decompressed.append(char * int(count))\n",
    "    \n",
    "    return ''.join(decompressed)"
   ]
  },
  {
   "cell_type": "markdown",
   "id": "10067614",
   "metadata": {},
   "source": [
    "Save string data to a text file."
   ]
  },
  {
   "cell_type": "code",
   "execution_count": 8,
   "id": "2fc466d0",
   "metadata": {},
   "outputs": [],
   "source": [
    "def save_to_file(filename, content):\n",
    "    with open(filename, 'w') as f:\n",
    "        f.write(content)\n",
    "\n",
    "# Read string data from a text file.\n",
    "def read_from_file(filename):\n",
    "    with open(filename, 'r') as f:\n",
    "        return f.read()"
   ]
  },
  {
   "cell_type": "code",
   "execution_count": 9,
   "id": "3566e81c",
   "metadata": {},
   "outputs": [
    {
     "name": "stdout",
     "output_type": "stream",
     "text": [
      "Original Text: aaabbbccddddddeeeffffffgghhh\n",
      "Compressed Text: a3b3c2d6e3f6g2h3\n",
      "Decompressed Text: aaabbbccddddddeeeffffffgghhh\n",
      "Compression Match: True\n"
     ]
    }
   ],
   "source": [
    "# Example text with repeated characters for better compression.\n",
    "sample_text = \"aaabbbccddddddeeeffffffgghhh\"\n",
    "\n",
    "# Compress the sample text.\n",
    "compressed_text = compress_rle(sample_text)\n",
    "\n",
    "# Decompress to verify correctness.\n",
    "decompressed_text = decompress_rle(compressed_text)\n",
    "\n",
    "# Save files for reference.\n",
    "save_to_file(\"original.txt\", sample_text)\n",
    "save_to_file(\"compressed.txt\", compressed_text)\n",
    "save_to_file(\"decompressed.txt\", decompressed_text)\n",
    "\n",
    "# Display results.\n",
    "print(\"Original Text:\", sample_text)\n",
    "print(\"Compressed Text:\", compressed_text)\n",
    "print(\"Decompressed Text:\", decompressed_text)\n",
    "print(\"Compression Match:\", sample_text == decompressed_text)\n"
   ]
  },
  {
   "cell_type": "code",
   "execution_count": 10,
   "id": "d23ae204",
   "metadata": {},
   "outputs": [
    {
     "name": "stdout",
     "output_type": "stream",
     "text": [
      "Original Size: 28 characters\n",
      "Compressed Size: 16 characters\n",
      "Compression Ratio: 0.57\n"
     ]
    }
   ],
   "source": [
    "# Compare the size of original and compressed data.\n",
    "original_size = len(sample_text)\n",
    "compressed_size = len(compressed_text)\n",
    "compression_ratio = compressed_size / original_size\n",
    "\n",
    "print(f\"Original Size: {original_size} characters\")\n",
    "print(f\"Compressed Size: {compressed_size} characters\")\n",
    "print(f\"Compression Ratio: {compression_ratio:.2f}\")"
   ]
  }
 ],
 "metadata": {
  "kernelspec": {
   "display_name": "Python 3",
   "language": "python",
   "name": "python3"
  },
  "language_info": {
   "codemirror_mode": {
    "name": "ipython",
    "version": 3
   },
   "file_extension": ".py",
   "mimetype": "text/x-python",
   "name": "python",
   "nbconvert_exporter": "python",
   "pygments_lexer": "ipython3",
   "version": "3.12.1"
  }
 },
 "nbformat": 4,
 "nbformat_minor": 5
}
